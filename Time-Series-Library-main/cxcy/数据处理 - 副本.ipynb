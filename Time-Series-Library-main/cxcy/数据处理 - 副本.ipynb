{
 "cells": [
  {
   "cell_type": "code",
   "execution_count": null,
   "id": "a257a46b-c9c6-4372-bd63-8df0e37e1cb8",
   "metadata": {
    "is_executing": true
   },
   "outputs": [],
   "source": [
    "import pandas as pd\n",
    "import numpy as np\n",
    "import matplotlib.pyplot as plt\n",
    "import cvxpy as cp\n",
    "from datetime import datetime\n",
    "from scipy.interpolate import interp1d\n",
    "from scipy.interpolate import InterpolatedUnivariateSpline\n",
    "plt.rc(\"font\", family = 'SimHei')\n",
    "plt.rc('font', size = 15)"
   ]
  },
  {
   "cell_type": "code",
   "execution_count": null,
   "id": "efa6bb7f-2fd4-46ae-9eff-28ede8261e9c",
   "metadata": {},
   "outputs": [],
   "source": [
    "#读取\n",
    "#a1 = pd.read_excel('附件1.xlsx', index_col = 1, header = 0)\n",
    "a2 = pd.read_excel('附件2.xlsx')\n",
    "a3 = pd.read_excel('附件3.xlsx')\n",
    "#a4 = pd.read_excel('附件4.xlsx', index_col = 1, header = 0)\n",
    "print(a2,a3,sep = '\\n\\n')"
   ]
  },
  {
   "cell_type": "code",
   "execution_count": null,
   "id": "262e722c-2a79-4776-ae56-2c60f649033f",
   "metadata": {},
   "outputs": [],
   "source": [
    "spinach = [102900005118817]\n",
    "b2_1 = a2['单品编码'].isin(spinach)\n",
    "b2_2 = a2[b2_1][['销售日期','扫码销售时间','销量(千克)','销售单价(元/千克)','是否打折销售']]\n",
    "b3_1 = a3['单品编码'].isin(spinach)\n",
    "b3_2 = a3[b3_1][['日期','批发价格(元/千克)']]\n",
    "\n",
    "print(b2_2,b3_2,sep = '\\n\\n')"
   ]
  },
  {
   "cell_type": "code",
   "execution_count": null,
   "id": "1605d0a6-1839-4849-bcc1-db767e6512a4",
   "metadata": {},
   "outputs": [],
   "source": [
    "b2_2 = b2_2.reset_index(drop=True)\n",
    "b3_2 = b3_2.reset_index(drop=True)\n",
    "b2_2 = b2_2[(b2_2['销售日期'].dt.year != 2023) | (b2_2['销售日期'].dt.month != 6)]\n",
    "b3_2 = b3_2[(b3_2['日期'].dt.year != 2023) | (b3_2['日期'].dt.month != 6)]\n",
    "b2_2['销售日期'] = pd.to_datetime(b2_2['销售日期'])\n",
    "b3_2['日期'] = pd.to_datetime(b3_2['日期'])"
   ]
  },
  {
   "cell_type": "code",
   "execution_count": null,
   "id": "93efa1ac-617f-44c9-b5fa-9c7793a73cfe",
   "metadata": {},
   "outputs": [],
   "source": [
    "b2_2"
   ]
  },
  {
   "cell_type": "code",
   "execution_count": null,
   "id": "25b9c7e7-66e0-4f8a-9940-d9e5ed2d934d",
   "metadata": {},
   "outputs": [],
   "source": [
    "b3_2"
   ]
  },
  {
   "cell_type": "code",
   "execution_count": null,
   "id": "3cd45703-fd78-4770-9425-e67ef9a36dad",
   "metadata": {},
   "outputs": [],
   "source": [
    "b2_2.to_excel('附件2——2.xlsx', index = False)\n",
    "b3_2.to_excel('附件3——2.xlsx', index = False)"
   ]
  },
  {
   "cell_type": "code",
   "execution_count": null,
   "id": "0b67cbaa-ebe6-4816-b898-fb6f09943ba7",
   "metadata": {},
   "outputs": [],
   "source": [
    "is_discount = b2_2['是否打折销售'] == '是'\n",
    "\n",
    "# 使用groupby和transform来查找同一天非打折销售的单价\n",
    "# 使用first()来确保我们得到的是同一天的第一条非打折销售记录的单价\n",
    "non_discount_price = b2_2[~is_discount].groupby('销售日期')['销售单价(元/千克)'].first().astype(float)\n",
    "\n",
    "# 将非打折销售的单价应用到打折销售的记录上\n",
    "b2_2.loc[is_discount, '销售单价(元/千克)'] = b2_2.loc[is_discount, '销售日期'].map(non_discount_price)\n",
    "\n",
    "# 确保修改后的单价保持正确的数据类型\n",
    "b2_2['销售单价(元/千克)'] = b2_2['销售单价(元/千克)'].astype(float)"
   ]
  },
  {
   "cell_type": "code",
   "execution_count": null,
   "id": "9459bbf7-2afb-4144-9aee-a2fd2bba952c",
   "metadata": {},
   "outputs": [],
   "source": [
    "b2_2"
   ]
  },
  {
   "cell_type": "code",
   "execution_count": null,
   "id": "e9ce9581-b346-4478-b040-0f589b79b6b0",
   "metadata": {},
   "outputs": [],
   "source": [
    "daily_sales_agg = b2_2.groupby('销售日期').agg({\n",
    "    '销量(千克)': 'sum',\n",
    "    '销售单价(元/千克)': 'mean'\n",
    "}).reset_index()"
   ]
  },
  {
   "cell_type": "code",
   "execution_count": null,
   "id": "3b68e275-cc1c-4ac2-9eb5-57e319ec64c4",
   "metadata": {},
   "outputs": [],
   "source": [
    "daily_sales_agg"
   ]
  },
  {
   "cell_type": "code",
   "execution_count": null,
   "id": "3a344134-658a-454b-9b6c-0a050fe2ccf8",
   "metadata": {},
   "outputs": [],
   "source": [
    "\n",
    "# 将批发价格按日期拼接到销售数据后面\n",
    "# 使用left合并，以销售数据为准\n",
    "daily_sales_agg = pd.merge(daily_sales_agg, b3_2, left_on='销售日期', right_on='日期', how='left')\n",
    "\n",
    "# 删除多余的日期列\n",
    "daily_sales_agg.drop('日期', axis=1, inplace=True)\n",
    "\n",
    "# 填充缺失的批发价格\n",
    "# 使用ffill方法前向填充\n",
    "daily_sales_agg['批发价格(元/千克)'] = daily_sales_agg['批发价格(元/千克)'].fillna(method='ffill')\n",
    "\n",
    "daily_sales_agg\n"
   ]
  },
  {
   "cell_type": "code",
   "execution_count": null,
   "id": "28e97331-131a-4698-b784-b111a9178361",
   "metadata": {},
   "outputs": [],
   "source": [
    "\n",
    "# 确保销售日期是datetime类型\n",
    "daily_sales_agg['销售日期'] = pd.to_datetime(daily_sales_agg['销售日期'])\n",
    "\n",
    "# 按照销售日期进行分组，并对每个分组的销量求和\n",
    "#daily_sales_sum = b2_2.groupby('销售日期')['销量(千克)'].sum().reset_index()\n",
    "\n",
    "# 按照销售日期进行分组，并获取每个分组的第一个销售单价（假设每天的单价是相同的）\n",
    "#daily_price = b2_2.groupby('销售日期')['销售单价(元/千克)'].first().reset_index()\n",
    "\n",
    "# 绘制日期-销量图\n",
    "plt.figure(figsize=(12, 6))\n",
    "plt.plot(daily_sales_agg['销售日期'], daily_sales_agg['销量(千克)'], marker='o', color='b')\n",
    "plt.title('日期-销量图')\n",
    "plt.xlabel('日期')\n",
    "plt.ylabel('销量(千克)')\n",
    "plt.xticks(rotation=45)\n",
    "plt.tight_layout()\n",
    "plt.show()\n",
    "\n",
    "# 绘制日期-单价图\n",
    "plt.figure(figsize=(12, 6))\n",
    "plt.plot(daily_sales_agg['销售日期'], daily_sales_agg['销售单价(元/千克)'], marker='x', color='r')\n",
    "plt.title('日期-单价图')\n",
    "plt.xlabel('日期')\n",
    "plt.ylabel('销售单价(元/千克)')\n",
    "plt.xticks(rotation=45)\n",
    "plt.tight_layout()\n",
    "plt.show()\n"
   ]
  },
  {
   "cell_type": "code",
   "execution_count": null,
   "id": "cc05d291-8d07-4089-a6b9-a68917944388",
   "metadata": {},
   "outputs": [],
   "source": [
    "df = daily_sales_agg"
   ]
  },
  {
   "cell_type": "code",
   "execution_count": null,
   "id": "a59b2334-2747-417c-8fd0-95c0c3c41bfe",
   "metadata": {},
   "outputs": [],
   "source": [
    "# 确保销售日期是datetime类型\n",
    "df['销售日期'] = pd.to_datetime(df['销售日期'])\n",
    "\n",
    "# 生成2020.7.1到2023.2.9之间的所有日期\n",
    "date_range = pd.date_range(start='2020-07-01', end='2023-02-09')\n",
    "\n",
    "# 创建一个新的DataFrame，包含生成的日期和空值\n",
    "new_dates_df = pd.DataFrame(date_range, columns=['销售日期'])\n",
    "new_dates_df['销量(千克)'] = np.nan\n",
    "new_dates_df['销售单价(元/千克)'] = np.nan\n",
    "new_dates_df['批发价格(元/千克)'] = np.nan\n",
    "\n",
    "# 使用merge方法将原始数据与新创建的日期范围合并\n",
    "combined_df = pd.merge(df, new_dates_df, on='销售日期', how='left')\n",
    "df = combined_df\n",
    "df"
   ]
  },
  {
   "cell_type": "code",
   "execution_count": null,
   "id": "b330dfae-e956-4e9e-bff0-6488cf9d2f06",
   "metadata": {},
   "outputs": [],
   "source": [
    "date_range = pd.DataFrame(date_range,columns=['销售日期'])\n",
    "date_range"
   ]
  },
  {
   "cell_type": "code",
   "execution_count": null,
   "id": "f7d0a29c-2370-42fd-aca9-82d94e82fa2c",
   "metadata": {},
   "outputs": [],
   "source": [
    "# 确保第二个DataFrame中的日期是datetime类型\n",
    "date_range['销售日期'] = pd.to_datetime(date_range['销售日期'])\n",
    "\n",
    "# 使用merge方法将两个DataFrame按日期匹配\n",
    "merged_df = pd.merge(date_range, df, on='销售日期', how='left').iloc[:,:4]\n",
    "df = merged_df\n",
    "df."
   ]
  },
  {
   "cell_type": "code",
   "execution_count": null,
   "id": "6d5fe598-0ecb-4250-8be0-87ac0b01d6e9",
   "metadata": {
    "scrolled": true
   },
   "outputs": [],
   "source": [
    "# 确保第二个DataFrame中的日期是datetime类型\n",
    "df['销售日期'] = pd.to_datetime(df['销售日期'])\n",
    "\n",
    "# 对销量、销售价格和批发价格进行样条插值\n",
    "df['销量(千克)'] = df['销量(千克)'].interpolate(method='linear')\n",
    "df['销售单价(元/千克)'] = df['销售单价(元/千克)'].interpolate(method='linear')\n",
    "df['批发价格(元/千克)'] = df['批发价格(元/千克)'].interpolate(method='linear')\n",
    "\n",
    "df"
   ]
  },
  {
   "cell_type": "code",
   "execution_count": null,
   "id": "dc028bba-32dc-4a26-9059-5c3e8470f512",
   "metadata": {},
   "outputs": [],
   "source": [
    "df.to_excel('附件2——3.xlsx', index = False)"
   ]
  },
  {
   "cell_type": "code",
   "execution_count": null,
   "id": "9a909192-f46e-420d-9b9c-4a3614015985",
   "metadata": {},
   "outputs": [],
   "source": [
    "df = pd.read_excel('附件2——3.xlsx')"
   ]
  },
  {
   "cell_type": "code",
   "execution_count": null,
   "id": "054bf87a-277e-4123-af86-7d56fa640a51",
   "metadata": {},
   "outputs": [],
   "source": [
    "df"
   ]
  },
  {
   "cell_type": "code",
   "execution_count": null,
   "id": "dd0dd643-4915-4344-8f06-0fdd73bee5ca",
   "metadata": {},
   "outputs": [],
   "source": []
  },
  {
   "cell_type": "code",
   "execution_count": null,
   "id": "d05a27cb-6cad-4e2a-bf50-c36457ea25fc",
   "metadata": {},
   "outputs": [],
   "source": []
  },
  {
   "cell_type": "code",
   "execution_count": null,
   "id": "43a76778-39dd-4923-a186-f7c425c27af9",
   "metadata": {},
   "outputs": [],
   "source": []
  },
  {
   "cell_type": "code",
   "execution_count": null,
   "id": "041bc672-ba9e-48a3-8685-b95230048e9b",
   "metadata": {},
   "outputs": [],
   "source": []
  },
  {
   "cell_type": "code",
   "execution_count": null,
   "id": "57f27100-9716-490e-bc13-5df9bcc1d788",
   "metadata": {},
   "outputs": [],
   "source": []
  },
  {
   "cell_type": "code",
   "execution_count": null,
   "id": "f43fa394-49d0-4689-bb57-22705ee01803",
   "metadata": {},
   "outputs": [],
   "source": [
    "# 系数\n",
    "alpha_ = 0.0004\n",
    "beta_ = 0.09\n",
    "theta_ = 0.9\n",
    "mu_0 = 0.9\n",
    "lambda_ = 0.667\n",
    "m = 0.4\n",
    "n = 0.6\n",
    "C_F = 300\n",
    "C_V = \n",
    "C_I = 150\n",
    "D = \n",
    "D_T = \n",
    "P_T = \n",
    "\n",
    "\n",
    "\n"
   ]
  },
  {
   "cell_type": "code",
   "execution_count": null,
   "id": "926a5c47-24e5-44f8-8f8e-4141d0eeab77",
   "metadata": {},
   "outputs": [],
   "source": [
    "# 函数\n",
    "D_1 = D*(1 - (1/(theta_**((m+1)/3)*np.exp((m-1)*(t_2-t_1)*lambda_/3)+1)))\n",
    "D_2 = D*(1/(theta_**((4-m)/3)*np.exp((m-1)*(t_2-t_1)*lambda_/3)+1))\n",
    "P_2 = P_1*(theta_**((4-m)/3)*np.exp((1-m)*(t_2-t_1)*lambda_/3)\n",
    "\n",
    "mu_1 = 1 / (1 + (1 / mu_0 - 1) * np.exp(lambda_ * t_1))\n",
    "mu_2 = 1 / (1 + (1 / mu_0 - 1) * np.exp(lambda_ * t_2))\n",
    "\n",
    "I_11 = I_1\n",
    "I_22 = I_2\n",
    "\n",
    "Q = lambda x:D_1 if (P_1-C_V)*D_1-C_F-C_I >= 0 and (mu_1 <= 0.4 or I_11 <= D_1) else 0\n",
    "\n",
    "def f_I_1(I_11, D_1, Q, mu_1):\n",
    "    if mu_1 < 0.4:\n",
    "        I_1 = 0\n",
    "    elif Q > 0:\n",
    "        I_1 = max(Q - D_1, 0)\n",
    "    else :\n",
    "        I_1 = max(I_11-D_1, 0)\n",
    "    return I_1\n",
    "\n",
    "def f_I_2(I_22, I_11, D_2, Q, mu_2):\n",
    "    if mu_2 < 0.2:\n",
    "        I_2 = 0\n",
    "    elif Q > 0:\n",
    "        I_2 = max(I_11 + I_22 - D_2, 0)\n",
    "    else:\n",
    "        I_2 = max(I_22 - D_2, 0)\n",
    "    return I_2\n",
    "\n",
    "S_1 = min(I_1,D_1)\n",
    "S_2 = min(I_2,D_2)\n",
    "\n",
    "# 示性函数\n",
    "indicator_I_2 = lambda I_2: 1 if I_2 else 0\n",
    "indicator_Q = lambda Q:1 if Q else 0\n",
    "\n",
    "# 目标函数\n",
    "fun = (S_1*P_1 + S_2*P_2)*(1 - beta_ - indicator_I_2*C_P) - indicator_Q*(C_F + Q*C_V) - C_I"
   ]
  },
  {
   "cell_type": "code",
   "execution_count": null,
   "id": "c4836cb0-18ee-40a6-833e-e7df4b753917",
   "metadata": {},
   "outputs": [],
   "source": [
    "def f_I_1(I_11, D_1, Q, mu_1):\n",
    "    if mu_1 < 0.4:\n",
    "        I_1 = 0\n",
    "    elif Q > 0:\n",
    "        I_1 = max(Q - D_1, 0)\n",
    "    else :\n",
    "        I_1 = max(I_11-D_1, 0)\n",
    "    return I_1\n",
    "\n",
    "def f_I_2(I_22, I_11, D_2, Q, mu_2):\n",
    "    if mu_2 < 0.2:\n",
    "        I_2 = 0\n",
    "    elif Q > 0:\n",
    "        I_2 = max(I_11 + I_22 - D_2, 0)\n",
    "    else:\n",
    "        I_2 = max(I_22 - D_2, 0)\n",
    "    return I_2\n",
    "\n",
    "\n",
    "def f_mu_1(Q, I_11, t_1):\n",
    "    global t_1\n",
    "    if Q > 0:\n",
    "        t_1=0\n",
    "        mu_1 = 1 / (1 + (1 / mu_0 - 1) * np.exp(lambda_ * t_1))\n",
    "    elif I_11 > 0 :\n",
    "        t_1+=1\n",
    "        mu_1 = 1 / (1 + (1 / mu_0 - 1) * np.exp(lambda_ * t_1))\n",
    "    else:\n",
    "        t_1 = np.inf\n",
    "        mu_1 = 0\n",
    "    return mu_1\n",
    "\n",
    "def f_mu_2(Q, I_22, t_1, t_2):\n",
    "    global t_1, t_2\n",
    "    if Q > 0:\n",
    "        t_2 = t_1 + 1\n",
    "        mu_2 = 1 / (1 + (1 / mu_0 - 1) * np.exp(lambda_ * t_2))\n",
    "    elif I_22 > 0:\n",
    "        t_2 += 1\n",
    "        mu_2 = 1 / (1 + (1 / mu_0 - 1) * np.exp(lambda_ * t_2))\n",
    "    else:\n",
    "        t_2 = np.inf\n",
    "        mu_2 = 0\n",
    "    return mu_2\n",
    "\n",
    "ls_S_1=[]\n",
    "ls_S_2=[]\n",
    "ls_Q=[]\n",
    "ls_ir_I_2=[]\n",
    "ls_ir_Q=[]\n",
    "ls_P=[]\n",
    "ls_D_T_1=[]\n",
    "ls_D_T_2=[]\n",
    "I_1 = 0\n",
    "I_2 = 0\n",
    "mu_1 = 0\n",
    "mu_2 = 0\n",
    "t_1 = np.inf\n",
    "t_2 = np.inf\n",
    "\n",
    "for i in range(len(D)):\n",
    "    mu_11 = mu_1\n",
    "    mu_22 = mu_2\n",
    "    I_11 = I_1\n",
    "    I_22 = I_2\n",
    "\n",
    "    Q = lambda x:D[i] if (P_1-C_V[i])*D[i]-C_F-C_I >= 0 and (mu_11 <= 0.4 or I_11+I_22 <= D[i]) else 0\n",
    "\n",
    "    mu_1 = f_mu_1(Q, I_11, t_1)\n",
    "    mu_2 = f_mu_2(Q, I_22, t_1, t_2)\n",
    "    \n",
    "    if t_1 <= np.inf and t_2 <= np.inf:\n",
    "        D_1 = D[i]*(1 - (1/(theta_**((m+1)/3)*np.exp((m-1)*(t_2-t_1)*lambda_/3)+1)))\n",
    "        D_2 = D[i]*(1/(theta_**((4-m)/3)*np.exp((m-1)*(t_2-t_1)*lambda_/3)+1))\n",
    "       #D_T_1 = D_T[i]*(1 - (1/(theta_**((m+1)/3)*np.exp((m-1)*(t_2-t_1)*lambda_/3)+1)))\n",
    "        #D_T_2 = D_T[i]*(1/(theta_**((4-m)/3)*np.exp((m-1)*(t_2-t_1)*lambda_/3)+1))\n",
    "    elif t_1 == np.inf and t_2 == np.inf:\n",
    "        D_1 = 0\n",
    "        D_2 = 0\n",
    "        #D_T_1 = 0\n",
    "        #D_T_2 = 0\n",
    "    elif t_2 == np.inf:\n",
    "        D_1 = D\n",
    "        D_2 = 0\n",
    "        #D_T_1 = 0\n",
    "        #D_T_2 = 0\n",
    "    elif t_1 == np.inf:\n",
    "        D_1 = 0\n",
    "        D_2 = D\n",
    "        #D_T_1 = 0\n",
    "        #D_T_2 = 0\n",
    "\n",
    "    I_1 = f_I_1(I_11, D_1, Q, mu_1)\n",
    "    I_2 = f_I_2(I_22, I_11, D_2, Q, mu_2)\n",
    "\n",
    "    indicator_I_2 = lambda I_2: 1 if I_2 else 0\n",
    "    indicator_Q = lambda Q:1 if Q else 0\n",
    "\n",
    "    S_1 = min(I_1,D_1)\n",
    "    S_2 = min(I_2,D_2)\n",
    "    \n",
    "    ls_S_1.append(S_1)\n",
    "    ls_S_2.append(S_2)\n",
    "    ls_Q.append(Q)\n",
    "    ls_ir_I_2.append(indicator_I_2)\n",
    "    ls_ir_Q.append(indicator_Q)\n",
    "\n",
    "for t in range(len(D)):\n",
    "    # 定义变量\n",
    "    P = cp.Variable(2,pos=True)\n",
    "    \n",
    "    # 定义目标函数\n",
    "    fun = (ls_S_1[t]*P[0] + ls_S_2[t]*P[1])*(1 - beta_ - ls_ir_I_2[t]*C_P) - ls_ir_Q[t]*(C_F + ls_Q[t]*C_V[t]) - C_I\n",
    "    objective = cp.Maximize(fun)\n",
    "    \n",
    "    # 定义约束条件\n",
    "    if ls_t_1[t] <= np.inf and ls_t_2[t] <= np.inf:\n",
    "        constraints = [P[1] <= P[0]*(theta_**((4-m)/3)*np.exp((1-m)*(t_2-t_1)*lambda_/3)]\n",
    "    elif ls_t_1[t] == np.inf and ls_t_2[t] == np.inf:\n",
    "        constraints = [P[1]==0,P[0]==0]\n",
    "    elif ls_t_2[t] == np.inf:\n",
    "        constraints = [P[1]==0]\n",
    "    elif ls_t_1[t] == np.inf:\n",
    "        constraints = [P[0]==0]\n",
    "    \n",
    "    # 构建优化问题\n",
    "    prob = cp.Problem(objective, constraints)\n",
    "    \n",
    "    # 求解优化问题\n",
    "    prob.solve(solver='GLPK_MI')\n",
    "    \n",
    "    # 输出结果\n",
    "    ls_P.append(P.value)\n",
    "\n",
    "print(ls_P)\n",
    "\n",
    "#比较利润\n",
    "R_T = D_T @ P_T\n",
    "print(R_T)"
   ]
  },
  {
   "cell_type": "code",
   "execution_count": null,
   "id": "54d62757-1853-44e2-88e3-eb6cbc3c92bf",
   "metadata": {},
   "outputs": [],
   "source": [
    "import math\n",
    "x = math.inf"
   ]
  },
  {
   "cell_type": "code",
   "execution_count": null,
   "id": "e1516865-137a-4c3d-b744-afed4980e14d",
   "metadata": {},
   "outputs": [],
   "source": [
    "x"
   ]
  },
  {
   "cell_type": "code",
   "execution_count": null,
   "id": "4c4b1941-2687-4548-90a7-a9dbc270cbd7",
   "metadata": {},
   "outputs": [],
   "source": [
    "s1=np.inf"
   ]
  },
  {
   "cell_type": "code",
   "execution_count": null,
   "id": "2cdbce43-0e4c-4ab4-bbc6-7a27f85dcd1f",
   "metadata": {},
   "outputs": [],
   "source": [
    "s1"
   ]
  },
  {
   "cell_type": "code",
   "execution_count": null,
   "id": "d44ad0c0-0249-4b4d-9579-556b05142252",
   "metadata": {},
   "outputs": [],
   "source": [
    "x==s1"
   ]
  },
  {
   "cell_type": "code",
   "execution_count": null,
   "id": "a3432872-173a-4ce0-9fdf-bada35e376ae",
   "metadata": {},
   "outputs": [],
   "source": [
    "x-s1"
   ]
  },
  {
   "cell_type": "code",
   "execution_count": null,
   "id": "4e4e4e4d-170c-491b-8f0a-296ea3a768de",
   "metadata": {},
   "outputs": [],
   "source": [
    "max(-x,0)"
   ]
  },
  {
   "cell_type": "code",
   "execution_count": null,
   "id": "3a0bcb69-bd99-41eb-a005-03ab31cbb420",
   "metadata": {},
   "outputs": [],
   "source": [
    "np.exp(np.abs(x)) "
   ]
  },
  {
   "cell_type": "code",
   "execution_count": null,
   "id": "21e52dee-da81-42b6-a3f1-43ba253ba177",
   "metadata": {},
   "outputs": [],
   "source": [
    "df = pd.read_excel('数据.xlsx')"
   ]
  },
  {
   "cell_type": "code",
   "execution_count": null,
   "id": "8fdd7661-ec71-439e-ac3e-14f52d7e4902",
   "metadata": {},
   "outputs": [],
   "source": [
    "df"
   ]
  },
  {
   "cell_type": "code",
   "execution_count": null,
   "id": "0b91a4fb-f074-41f5-bf20-dc328b55a7e5",
   "metadata": {
    "is_executing": true
   },
   "outputs": [],
   "source": [
    "import tensorflow as tf\n",
    "from tensorflow.keras.models import Sequential\n",
    "from tensorflow.keras.layers import LSTM, Dense\n",
    "from sklearn.preprocessing import MinMaxScaler\n",
    "import numpy as np\n",
    "\n",
    "# 假设df是包含您数据的pandas DataFrame\n",
    "# 需要提取销量、销售单价、批发价格列作为特征\n",
    "features = df[['销量(千克)', '销售单价(元/千克)', '批发价格(元/千克)']].values\n",
    "\n",
    "# 数据标准化\n",
    "scaler = MinMaxScaler(feature_range=(0, 1))\n",
    "scaled_features = scaler.fit_transform(features)\n",
    "\n",
    "# 准备LSTM输入数据\n",
    "# 假设我们要预测最后一个月的数据，每个月大约30天\n",
    "X, y = scaled_features[:-30], scaled_features[-30:]\n",
    "\n",
    "# LSTM需要的输入格式是[samples, time steps, features]\n",
    "# 这里我们假设每个样本是一天的数据，每个样本只包含一个时间步，特征数量为3\n",
    "X = np.reshape(X, (X.shape[0], 1, X.shape[1]))\n",
    "\n",
    "# 构建LSTM模型\n",
    "model = Sequential()\n",
    "model.add(LSTM(50, activation='relu', input_shape=(1, 3)))\n",
    "model.add(Dense(3))\n",
    "model.compile(optimizer='adam', loss='mse')\n",
    "\n",
    "# 训练模型\n",
    "model.fit(X, y, epochs=300, verbose=0)\n",
    "\n",
    "# 进行预测\n",
    "predicted_scaled = model.predict(X)\n",
    "\n",
    "# 将标准化后的数据转换回原始的比例\n",
    "predicted = scaler.inverse_transform(predicted_scaled)\n",
    "\n",
    "# 打印预测结果\n",
    "print(predicted)\n"
   ]
  },
  {
   "cell_type": "code",
   "execution_count": null,
   "id": "a5a693b4-7715-45da-ac0d-965aadb4df70",
   "metadata": {},
   "outputs": [],
   "source": [
    "# 准备LSTM输入数据\n",
    "# 假设我们要预测最后一个月的数据，每个月大约30天\n",
    "# 我们将使用前面的数据作为输入，来预测后面的数据\n",
    "window_size = 30  # 这是我们的时间步长，即我们用来预测下一个时间点的过去时间点的数量\n",
    "X, y = [], []\n",
    "\n",
    "for i in range(window_size, len(scaled_features)):\n",
    "    X.append(scaled_features[i-window_size:i, :])\n",
    "    y.append(scaled_features[i, :])\n",
    "\n",
    "X, y = np.array(X), np.array(y)\n",
    "\n",
    "# LSTM需要的输入格式是[samples, time steps, features]\n",
    "# 这里我们假设每个样本是一段时间序列，每个样本包含30个时间步，特征数量为3\n",
    "X = np.reshape(X, (X.shape[0], X.shape[1], X.shape[2]))\n",
    "\n",
    "# 构建LSTM模型\n",
    "model = Sequential()\n",
    "model.add(LSTM(50, activation='relu', input_shape=(window_size, 3)))\n",
    "model.add(Dense(3))\n",
    "model.compile(optimizer='adam', loss='mse')\n",
    "\n",
    "# 训练模型\n",
    "model.fit(X, y, epochs=300, verbose=0)\n",
    "\n",
    "# 进行预测\n",
    "# 我们需要预测最后一个月的数据，因此我们将使用最后一个月的数据作为输入\n",
    "predicted_scaled = model.predict(np.array([scaled_features[-window_size:]]))\n",
    "\n",
    "# 将标准化后的数据转换回原始的比例\n",
    "predicted = scaler.inverse_transform(predicted_scaled)\n",
    "\n",
    "# 打印预测结果\n",
    "print(predicted)\n"
   ]
  },
  {
   "cell_type": "code",
   "execution_count": null,
   "id": "d33e51fd-4ef5-4e72-95dd-390a36265a52",
   "metadata": {},
   "outputs": [],
   "source": []
  }
 ],
 "metadata": {
  "kernelspec": {
   "display_name": "Python 3 (ipykernel)",
   "language": "python",
   "name": "python3"
  },
  "language_info": {
   "codemirror_mode": {
    "name": "ipython",
    "version": 3
   },
   "file_extension": ".py",
   "mimetype": "text/x-python",
   "name": "python",
   "nbconvert_exporter": "python",
   "pygments_lexer": "ipython3",
   "version": "3.10.6"
  }
 },
 "nbformat": 4,
 "nbformat_minor": 5
}
